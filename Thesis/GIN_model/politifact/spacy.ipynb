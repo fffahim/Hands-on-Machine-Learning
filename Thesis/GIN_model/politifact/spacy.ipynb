{
  "nbformat": 4,
  "nbformat_minor": 0,
  "metadata": {
    "colab": {
      "name": "GIN.ipynb",
      "provenance": [],
      "collapsed_sections": []
    },
    "kernelspec": {
      "name": "python3",
      "display_name": "Python 3"
    },
    "language_info": {
      "name": "python"
    }
  },
  "cells": [
    {
      "cell_type": "code",
      "metadata": {
        "id": "XSfj-b6MmZYD",
        "colab": {
          "base_uri": "https://localhost:8080/"
        },
        "outputId": "f29e6222-ec36-4f25-a9f9-e0da7f9cfe5b"
      },
      "source": [
        "!pip3 install torch==1.8.1+cpu torchvision==0.9.1+cpu torchaudio===0.8.1 -f https://download.pytorch.org/whl/lts/1.8/torch_lts.html"
      ],
      "execution_count": 1,
      "outputs": [
        {
          "output_type": "stream",
          "text": [
            "Looking in links: https://download.pytorch.org/whl/lts/1.8/torch_lts.html\n",
            "Collecting torch==1.8.1+cpu\n",
            "  Downloading https://download.pytorch.org/whl/lts/1.8/cpu/torch-1.8.1%2Bcpu-cp37-cp37m-linux_x86_64.whl (169.1 MB)\n",
            "\u001b[K     |████████████████████████████████| 169.1 MB 59 kB/s \n",
            "\u001b[?25hCollecting torchvision==0.9.1+cpu\n",
            "  Downloading https://download.pytorch.org/whl/lts/1.8/cpu/torchvision-0.9.1%2Bcpu-cp37-cp37m-linux_x86_64.whl (13.3 MB)\n",
            "\u001b[K     |████████████████████████████████| 13.3 MB 117 kB/s \n",
            "\u001b[?25hCollecting torchaudio===0.8.1\n",
            "  Downloading torchaudio-0.8.1-cp37-cp37m-manylinux1_x86_64.whl (1.9 MB)\n",
            "\u001b[K     |████████████████████████████████| 1.9 MB 4.1 MB/s \n",
            "\u001b[?25hRequirement already satisfied: typing-extensions in /usr/local/lib/python3.7/dist-packages (from torch==1.8.1+cpu) (3.7.4.3)\n",
            "Requirement already satisfied: numpy in /usr/local/lib/python3.7/dist-packages (from torch==1.8.1+cpu) (1.19.5)\n",
            "Requirement already satisfied: pillow>=4.1.1 in /usr/local/lib/python3.7/dist-packages (from torchvision==0.9.1+cpu) (7.1.2)\n",
            "Installing collected packages: torch, torchvision, torchaudio\n",
            "  Attempting uninstall: torch\n",
            "    Found existing installation: torch 1.9.0+cu102\n",
            "    Uninstalling torch-1.9.0+cu102:\n",
            "      Successfully uninstalled torch-1.9.0+cu102\n",
            "  Attempting uninstall: torchvision\n",
            "    Found existing installation: torchvision 0.10.0+cu102\n",
            "    Uninstalling torchvision-0.10.0+cu102:\n",
            "      Successfully uninstalled torchvision-0.10.0+cu102\n",
            "\u001b[31mERROR: pip's dependency resolver does not currently take into account all the packages that are installed. This behaviour is the source of the following dependency conflicts.\n",
            "torchtext 0.10.0 requires torch==1.9.0, but you have torch 1.8.1+cpu which is incompatible.\u001b[0m\n",
            "Successfully installed torch-1.8.1+cpu torchaudio-0.8.1 torchvision-0.9.1+cpu\n"
          ],
          "name": "stdout"
        }
      ]
    },
    {
      "cell_type": "code",
      "metadata": {
        "id": "zcjBWRVdlXcZ",
        "colab": {
          "base_uri": "https://localhost:8080/"
        },
        "outputId": "74a8d2b9-3bf8-40b9-af70-0550c9527a60"
      },
      "source": [
        "!pip install torch-scatter -f https://pytorch-geometric.com/whl/torch-1.8.0+cu111.html\n",
        "!pip install torch-sparse -f https://pytorch-geometric.com/whl/torch-1.8.0+cu111.html\n",
        "!pip install torch-cluster -f https://pytorch-geometric.com/whl/torch-1.8.0+cu111.html\n",
        "!pip install torch-spline-conv -f https://pytorch-geometric.com/whl/torch-1.8.0+cu111.html\n",
        "!pip install torch-geometric\n",
        "!pip install --upgrade git+https://github.com/rusty1s/pytorch_geometric.git"
      ],
      "execution_count": 2,
      "outputs": [
        {
          "output_type": "stream",
          "text": [
            "Looking in links: https://pytorch-geometric.com/whl/torch-1.8.0+cu111.html\n",
            "Collecting torch-scatter\n",
            "  Downloading https://pytorch-geometric.com/whl/torch-1.8.0%2Bcu111/torch_scatter-2.0.8-cp37-cp37m-linux_x86_64.whl (3.3 MB)\n",
            "\u001b[K     |████████████████████████████████| 3.3 MB 4.0 MB/s \n",
            "\u001b[?25hInstalling collected packages: torch-scatter\n",
            "Successfully installed torch-scatter-2.0.8\n",
            "Looking in links: https://pytorch-geometric.com/whl/torch-1.8.0+cu111.html\n",
            "Collecting torch-sparse\n",
            "  Downloading https://pytorch-geometric.com/whl/torch-1.8.0%2Bcu111/torch_sparse-0.6.11-cp37-cp37m-linux_x86_64.whl (1.9 MB)\n",
            "\u001b[K     |████████████████████████████████| 1.9 MB 312 kB/s \n",
            "\u001b[?25hRequirement already satisfied: scipy in /usr/local/lib/python3.7/dist-packages (from torch-sparse) (1.4.1)\n",
            "Requirement already satisfied: numpy>=1.13.3 in /usr/local/lib/python3.7/dist-packages (from scipy->torch-sparse) (1.19.5)\n",
            "Installing collected packages: torch-sparse\n",
            "Successfully installed torch-sparse-0.6.11\n",
            "Looking in links: https://pytorch-geometric.com/whl/torch-1.8.0+cu111.html\n",
            "Collecting torch-cluster\n",
            "  Downloading https://pytorch-geometric.com/whl/torch-1.8.0%2Bcu111/torch_cluster-1.5.9-cp37-cp37m-linux_x86_64.whl (1.1 MB)\n",
            "\u001b[K     |████████████████████████████████| 1.1 MB 1.4 MB/s \n",
            "\u001b[?25hInstalling collected packages: torch-cluster\n",
            "Successfully installed torch-cluster-1.5.9\n",
            "Looking in links: https://pytorch-geometric.com/whl/torch-1.8.0+cu111.html\n",
            "Collecting torch-spline-conv\n",
            "  Downloading https://pytorch-geometric.com/whl/torch-1.8.0%2Bcu111/torch_spline_conv-1.2.1-cp37-cp37m-linux_x86_64.whl (422 kB)\n",
            "\u001b[K     |████████████████████████████████| 422 kB 4.2 MB/s \n",
            "\u001b[?25hInstalling collected packages: torch-spline-conv\n",
            "Successfully installed torch-spline-conv-1.2.1\n",
            "Collecting torch-geometric\n",
            "  Downloading torch_geometric-1.7.2.tar.gz (222 kB)\n",
            "\u001b[K     |████████████████████████████████| 222 kB 4.3 MB/s \n",
            "\u001b[?25hRequirement already satisfied: numpy in /usr/local/lib/python3.7/dist-packages (from torch-geometric) (1.19.5)\n",
            "Requirement already satisfied: tqdm in /usr/local/lib/python3.7/dist-packages (from torch-geometric) (4.41.1)\n",
            "Requirement already satisfied: scipy in /usr/local/lib/python3.7/dist-packages (from torch-geometric) (1.4.1)\n",
            "Requirement already satisfied: networkx in /usr/local/lib/python3.7/dist-packages (from torch-geometric) (2.5.1)\n",
            "Requirement already satisfied: python-louvain in /usr/local/lib/python3.7/dist-packages (from torch-geometric) (0.15)\n",
            "Requirement already satisfied: scikit-learn in /usr/local/lib/python3.7/dist-packages (from torch-geometric) (0.22.2.post1)\n",
            "Requirement already satisfied: requests in /usr/local/lib/python3.7/dist-packages (from torch-geometric) (2.23.0)\n",
            "Requirement already satisfied: pandas in /usr/local/lib/python3.7/dist-packages (from torch-geometric) (1.1.5)\n",
            "Collecting rdflib\n",
            "  Downloading rdflib-6.0.0-py3-none-any.whl (376 kB)\n",
            "\u001b[K     |████████████████████████████████| 376 kB 44.5 MB/s \n",
            "\u001b[?25hRequirement already satisfied: googledrivedownloader in /usr/local/lib/python3.7/dist-packages (from torch-geometric) (0.4)\n",
            "Requirement already satisfied: jinja2 in /usr/local/lib/python3.7/dist-packages (from torch-geometric) (2.11.3)\n",
            "Requirement already satisfied: pyparsing in /usr/local/lib/python3.7/dist-packages (from torch-geometric) (2.4.7)\n",
            "Requirement already satisfied: MarkupSafe>=0.23 in /usr/local/lib/python3.7/dist-packages (from jinja2->torch-geometric) (2.0.1)\n",
            "Requirement already satisfied: decorator<5,>=4.3 in /usr/local/lib/python3.7/dist-packages (from networkx->torch-geometric) (4.4.2)\n",
            "Requirement already satisfied: pytz>=2017.2 in /usr/local/lib/python3.7/dist-packages (from pandas->torch-geometric) (2018.9)\n",
            "Requirement already satisfied: python-dateutil>=2.7.3 in /usr/local/lib/python3.7/dist-packages (from pandas->torch-geometric) (2.8.1)\n",
            "Requirement already satisfied: six>=1.5 in /usr/local/lib/python3.7/dist-packages (from python-dateutil>=2.7.3->pandas->torch-geometric) (1.15.0)\n",
            "Requirement already satisfied: setuptools in /usr/local/lib/python3.7/dist-packages (from rdflib->torch-geometric) (57.2.0)\n",
            "Collecting isodate\n",
            "  Downloading isodate-0.6.0-py2.py3-none-any.whl (45 kB)\n",
            "\u001b[K     |████████████████████████████████| 45 kB 2.8 MB/s \n",
            "\u001b[?25hRequirement already satisfied: certifi>=2017.4.17 in /usr/local/lib/python3.7/dist-packages (from requests->torch-geometric) (2021.5.30)\n",
            "Requirement already satisfied: idna<3,>=2.5 in /usr/local/lib/python3.7/dist-packages (from requests->torch-geometric) (2.10)\n",
            "Requirement already satisfied: chardet<4,>=3.0.2 in /usr/local/lib/python3.7/dist-packages (from requests->torch-geometric) (3.0.4)\n",
            "Requirement already satisfied: urllib3!=1.25.0,!=1.25.1,<1.26,>=1.21.1 in /usr/local/lib/python3.7/dist-packages (from requests->torch-geometric) (1.24.3)\n",
            "Requirement already satisfied: joblib>=0.11 in /usr/local/lib/python3.7/dist-packages (from scikit-learn->torch-geometric) (1.0.1)\n",
            "Building wheels for collected packages: torch-geometric\n",
            "  Building wheel for torch-geometric (setup.py) ... \u001b[?25l\u001b[?25hdone\n",
            "  Created wheel for torch-geometric: filename=torch_geometric-1.7.2-py3-none-any.whl size=388142 sha256=5b7b764d01a65dd7e1db9f30ba3e5df77f367874e0db50ecf58c50580e668820\n",
            "  Stored in directory: /root/.cache/pip/wheels/55/93/b6/2eeb0465afe89aee74d7a07a606e9770466d7565abd45a99d5\n",
            "Successfully built torch-geometric\n",
            "Installing collected packages: isodate, rdflib, torch-geometric\n",
            "Successfully installed isodate-0.6.0 rdflib-6.0.0 torch-geometric-1.7.2\n",
            "Collecting git+https://github.com/rusty1s/pytorch_geometric.git\n",
            "  Cloning https://github.com/rusty1s/pytorch_geometric.git to /tmp/pip-req-build-251qpisb\n",
            "  Running command git clone -q https://github.com/rusty1s/pytorch_geometric.git /tmp/pip-req-build-251qpisb\n",
            "Requirement already satisfied: numpy in /usr/local/lib/python3.7/dist-packages (from torch-geometric==1.7.2) (1.19.5)\n",
            "Requirement already satisfied: tqdm in /usr/local/lib/python3.7/dist-packages (from torch-geometric==1.7.2) (4.41.1)\n",
            "Requirement already satisfied: scipy in /usr/local/lib/python3.7/dist-packages (from torch-geometric==1.7.2) (1.4.1)\n",
            "Requirement already satisfied: networkx in /usr/local/lib/python3.7/dist-packages (from torch-geometric==1.7.2) (2.5.1)\n",
            "Requirement already satisfied: scikit-learn in /usr/local/lib/python3.7/dist-packages (from torch-geometric==1.7.2) (0.22.2.post1)\n",
            "Requirement already satisfied: requests in /usr/local/lib/python3.7/dist-packages (from torch-geometric==1.7.2) (2.23.0)\n",
            "Requirement already satisfied: pandas in /usr/local/lib/python3.7/dist-packages (from torch-geometric==1.7.2) (1.1.5)\n",
            "Requirement already satisfied: rdflib in /usr/local/lib/python3.7/dist-packages (from torch-geometric==1.7.2) (6.0.0)\n",
            "Requirement already satisfied: googledrivedownloader in /usr/local/lib/python3.7/dist-packages (from torch-geometric==1.7.2) (0.4)\n",
            "Requirement already satisfied: jinja2 in /usr/local/lib/python3.7/dist-packages (from torch-geometric==1.7.2) (2.11.3)\n",
            "Requirement already satisfied: pyparsing in /usr/local/lib/python3.7/dist-packages (from torch-geometric==1.7.2) (2.4.7)\n",
            "Requirement already satisfied: MarkupSafe>=0.23 in /usr/local/lib/python3.7/dist-packages (from jinja2->torch-geometric==1.7.2) (2.0.1)\n",
            "Requirement already satisfied: decorator<5,>=4.3 in /usr/local/lib/python3.7/dist-packages (from networkx->torch-geometric==1.7.2) (4.4.2)\n",
            "Requirement already satisfied: pytz>=2017.2 in /usr/local/lib/python3.7/dist-packages (from pandas->torch-geometric==1.7.2) (2018.9)\n",
            "Requirement already satisfied: python-dateutil>=2.7.3 in /usr/local/lib/python3.7/dist-packages (from pandas->torch-geometric==1.7.2) (2.8.1)\n",
            "Requirement already satisfied: six>=1.5 in /usr/local/lib/python3.7/dist-packages (from python-dateutil>=2.7.3->pandas->torch-geometric==1.7.2) (1.15.0)\n",
            "Requirement already satisfied: setuptools in /usr/local/lib/python3.7/dist-packages (from rdflib->torch-geometric==1.7.2) (57.2.0)\n",
            "Requirement already satisfied: isodate in /usr/local/lib/python3.7/dist-packages (from rdflib->torch-geometric==1.7.2) (0.6.0)\n",
            "Requirement already satisfied: chardet<4,>=3.0.2 in /usr/local/lib/python3.7/dist-packages (from requests->torch-geometric==1.7.2) (3.0.4)\n",
            "Requirement already satisfied: certifi>=2017.4.17 in /usr/local/lib/python3.7/dist-packages (from requests->torch-geometric==1.7.2) (2021.5.30)\n",
            "Requirement already satisfied: urllib3!=1.25.0,!=1.25.1,<1.26,>=1.21.1 in /usr/local/lib/python3.7/dist-packages (from requests->torch-geometric==1.7.2) (1.24.3)\n",
            "Requirement already satisfied: idna<3,>=2.5 in /usr/local/lib/python3.7/dist-packages (from requests->torch-geometric==1.7.2) (2.10)\n",
            "Requirement already satisfied: joblib>=0.11 in /usr/local/lib/python3.7/dist-packages (from scikit-learn->torch-geometric==1.7.2) (1.0.1)\n"
          ],
          "name": "stdout"
        }
      ]
    },
    {
      "cell_type": "code",
      "metadata": {
        "id": "x5CEpUUIooAm"
      },
      "source": [
        "import argparse\n",
        "import os.path as osp\n",
        "\n",
        "import torch\n",
        "from torch.nn import Linear\n",
        "import torch.nn.functional as F\n",
        "from torch_geometric.datasets import UPFD\n",
        "from torch_geometric.data import DataLoader\n",
        "from torch_geometric.transforms import ToUndirected\n",
        "from torch_geometric.nn import GCNConv, SAGEConv, GATConv, global_max_pool, global_mean_pool\n",
        "from torch_geometric.nn import GINConv, global_add_pool,GINEConv\n",
        "from torch.nn import Sequential, Linear, BatchNorm1d, ReLU"
      ],
      "execution_count": 3,
      "outputs": []
    },
    {
      "cell_type": "code",
      "metadata": {
        "id": "SHJb5ETtowVg",
        "colab": {
          "base_uri": "https://localhost:8080/"
        },
        "outputId": "1f930809-131c-4b50-feb9-b8d7c8501dc1"
      },
      "source": [
        "path = osp.join(osp.dirname(osp.realpath(\"/content/tutorial1\")), '..', 'data', 'UPFD')\n",
        "train_dataset = UPFD(path, 'politifact', 'spacy', 'train', ToUndirected())\n",
        "val_dataset = UPFD(path, 'politifact', 'spacy', 'val', ToUndirected())\n",
        "test_dataset = UPFD(path, 'politifact', 'spacy', 'test', ToUndirected())\n",
        "\n",
        "train_loader = DataLoader(train_dataset, batch_size=128, shuffle=True)\n",
        "val_loader = DataLoader(val_dataset, batch_size=128, shuffle=False)\n",
        "test_loader = DataLoader(test_dataset, batch_size=128, shuffle=False)"
      ],
      "execution_count": 7,
      "outputs": [
        {
          "output_type": "stream",
          "text": [
            "Downloading 1KOmSrlGcC50PjkvRVbyb_WoWHVql06J- into /data/UPFD/politifact/raw/politifact.zip... Done.\n",
            "Unzipping...Done.\n",
            "Processing...\n",
            "Done!\n"
          ],
          "name": "stdout"
        }
      ]
    },
    {
      "cell_type": "markdown",
      "metadata": {
        "id": "eRIyYqHl5Nzl"
      },
      "source": [
        "feature: profile --------ACC=77\n",
        "\n",
        "feature: spacy----------ACC=77\n",
        "\n",
        "feature: bert----------ACC=80"
      ]
    },
    {
      "cell_type": "code",
      "metadata": {
        "colab": {
          "base_uri": "https://localhost:8080/"
        },
        "id": "-E5vCWrgLbow",
        "outputId": "69f2c514-b57a-428e-fd92-c74722b59594"
      },
      "source": [
        "print(val_dataset)"
      ],
      "execution_count": 8,
      "outputs": [
        {
          "output_type": "stream",
          "text": [
            "UPFD(31, name=politifact, feature=spacy)\n"
          ],
          "name": "stdout"
        }
      ]
    },
    {
      "cell_type": "code",
      "metadata": {
        "colab": {
          "base_uri": "https://localhost:8080/"
        },
        "id": "ZkHBP398rlr9",
        "outputId": "4719530b-6dde-4ee0-da5c-1ac8bb4d74d8"
      },
      "source": [
        "class Net(torch.nn.Module):\n",
        "    def __init__(self, in_channels, dim, out_channels):\n",
        "        super(Net, self).__init__()\n",
        "\n",
        "        self.conv1 = GINConv(\n",
        "            Sequential(Linear(in_channels, dim), BatchNorm1d(dim), ReLU(),\n",
        "                       Linear(dim, dim), ReLU()))\n",
        "\n",
        "        self.conv2 = GINConv(\n",
        "            Sequential(Linear(dim, dim), BatchNorm1d(dim), ReLU(),\n",
        "                       Linear(dim, dim), ReLU()))\n",
        "\n",
        "        self.conv3 = GINConv(\n",
        "            Sequential(Linear(dim, dim), BatchNorm1d(dim), ReLU(),\n",
        "                       Linear(dim, dim), ReLU()))\n",
        "\n",
        "        self.conv4 = GINConv(\n",
        "            Sequential(Linear(dim, dim), BatchNorm1d(dim), ReLU(),\n",
        "                       Linear(dim, dim), ReLU()))\n",
        "\n",
        "        self.conv5 = GINConv(\n",
        "            Sequential(Linear(dim, dim), BatchNorm1d(dim), ReLU(),\n",
        "                       Linear(dim, dim), ReLU()))\n",
        "\n",
        "        self.lin1 = Linear(dim, dim)\n",
        "        self.lin2 = Linear(dim, out_channels)\n",
        "\n",
        "    def forward(self, x, edge_index, batch):\n",
        "        x = self.conv1(x, edge_index)\n",
        "        x = self.conv2(x, edge_index)\n",
        "        x = self.conv3(x, edge_index)\n",
        "        x = self.conv4(x, edge_index)\n",
        "        x = self.conv5(x, edge_index)\n",
        "        x = global_add_pool(x, batch)\n",
        "        x = self.lin1(x).relu()\n",
        "        x = F.dropout(x, p=0.5, training=self.training)\n",
        "        x = self.lin2(x)\n",
        "        return F.log_softmax(x, dim=-1)\n",
        "\n",
        "\n",
        "device = torch.device('cuda' if torch.cuda.is_available() else 'cpu')\n",
        "model = Net(train_dataset.num_features, 180, train_dataset.num_classes).to(device)\n",
        "optimizer = torch.optim.Adam(model.parameters(), lr=0.001)\n",
        "\n",
        "\n",
        "def train():\n",
        "    model.train()\n",
        "\n",
        "    total_loss = 0\n",
        "    for data in train_loader:\n",
        "        data = data.to(device)\n",
        "        optimizer.zero_grad()\n",
        "        output = model(data.x, data.edge_index, data.batch)\n",
        "        loss = F.nll_loss(output, data.y)\n",
        "        loss.backward()\n",
        "        optimizer.step()\n",
        "        total_loss += float(loss) * data.num_graphs\n",
        "    return total_loss / len(train_loader.dataset)\n",
        "\n",
        "\n",
        "@torch.no_grad()\n",
        "def test(loader):\n",
        "    model.eval()\n",
        "\n",
        "    total_correct = 0\n",
        "    for data in loader:\n",
        "        data = data.to(device)\n",
        "        out = model(data.x, data.edge_index, data.batch)\n",
        "        total_correct += int((out.argmax(-1) == data.y).sum())\n",
        "    return total_correct / len(loader.dataset)\n",
        "\n",
        "\n",
        "for epoch in range(1, 101):\n",
        "    loss = train()\n",
        "    train_acc = test(train_loader)\n",
        "    test_acc = test(test_loader)\n",
        "    print(f'Epoch: {epoch:03d}, Loss: {loss:.4f}, Train Acc: {train_acc:.4f} '\n",
        "          f'Test Acc: {test_acc:.4f}')"
      ],
      "execution_count": 11,
      "outputs": [
        {
          "output_type": "stream",
          "text": [
            "Epoch: 001, Loss: 3.3506, Train Acc: 0.5484 Test Acc: 0.4480\n",
            "Epoch: 002, Loss: 1.5143, Train Acc: 0.5484 Test Acc: 0.4344\n",
            "Epoch: 003, Loss: 0.9840, Train Acc: 0.5000 Test Acc: 0.4253\n",
            "Epoch: 004, Loss: 0.7176, Train Acc: 0.5000 Test Acc: 0.4344\n",
            "Epoch: 005, Loss: 0.8680, Train Acc: 0.4839 Test Acc: 0.4163\n",
            "Epoch: 006, Loss: 0.7618, Train Acc: 0.5968 Test Acc: 0.4344\n",
            "Epoch: 007, Loss: 0.8639, Train Acc: 0.5484 Test Acc: 0.4661\n",
            "Epoch: 008, Loss: 0.6875, Train Acc: 0.5484 Test Acc: 0.4615\n",
            "Epoch: 009, Loss: 0.7297, Train Acc: 0.5645 Test Acc: 0.4434\n",
            "Epoch: 010, Loss: 0.5311, Train Acc: 0.5484 Test Acc: 0.4480\n",
            "Epoch: 011, Loss: 0.5774, Train Acc: 0.5323 Test Acc: 0.4570\n",
            "Epoch: 012, Loss: 0.5288, Train Acc: 0.5323 Test Acc: 0.4570\n",
            "Epoch: 013, Loss: 0.5088, Train Acc: 0.5323 Test Acc: 0.4570\n",
            "Epoch: 014, Loss: 0.4915, Train Acc: 0.5806 Test Acc: 0.4796\n",
            "Epoch: 015, Loss: 0.5514, Train Acc: 0.5806 Test Acc: 0.4706\n",
            "Epoch: 016, Loss: 0.4342, Train Acc: 0.5968 Test Acc: 0.4706\n",
            "Epoch: 017, Loss: 0.4138, Train Acc: 0.6129 Test Acc: 0.4887\n",
            "Epoch: 018, Loss: 0.4074, Train Acc: 0.6129 Test Acc: 0.4977\n",
            "Epoch: 019, Loss: 0.4233, Train Acc: 0.5968 Test Acc: 0.4977\n",
            "Epoch: 020, Loss: 0.3921, Train Acc: 0.6452 Test Acc: 0.5294\n",
            "Epoch: 021, Loss: 0.3953, Train Acc: 0.6290 Test Acc: 0.5294\n",
            "Epoch: 022, Loss: 0.3652, Train Acc: 0.6452 Test Acc: 0.5385\n",
            "Epoch: 023, Loss: 0.3487, Train Acc: 0.6935 Test Acc: 0.5430\n",
            "Epoch: 024, Loss: 0.4094, Train Acc: 0.6935 Test Acc: 0.5294\n",
            "Epoch: 025, Loss: 0.3833, Train Acc: 0.7258 Test Acc: 0.5385\n",
            "Epoch: 026, Loss: 0.3534, Train Acc: 0.7258 Test Acc: 0.5430\n",
            "Epoch: 027, Loss: 0.3403, Train Acc: 0.6935 Test Acc: 0.5520\n",
            "Epoch: 028, Loss: 0.3141, Train Acc: 0.7419 Test Acc: 0.5520\n",
            "Epoch: 029, Loss: 0.3143, Train Acc: 0.7419 Test Acc: 0.5339\n",
            "Epoch: 030, Loss: 0.3290, Train Acc: 0.6935 Test Acc: 0.5294\n",
            "Epoch: 031, Loss: 0.4110, Train Acc: 0.7097 Test Acc: 0.5204\n",
            "Epoch: 032, Loss: 0.3067, Train Acc: 0.7258 Test Acc: 0.5158\n",
            "Epoch: 033, Loss: 0.3095, Train Acc: 0.6935 Test Acc: 0.5294\n",
            "Epoch: 034, Loss: 0.2718, Train Acc: 0.7258 Test Acc: 0.5475\n",
            "Epoch: 035, Loss: 0.3097, Train Acc: 0.7419 Test Acc: 0.5747\n",
            "Epoch: 036, Loss: 0.3352, Train Acc: 0.7742 Test Acc: 0.5882\n",
            "Epoch: 037, Loss: 0.2752, Train Acc: 0.7581 Test Acc: 0.5792\n",
            "Epoch: 038, Loss: 0.2772, Train Acc: 0.8065 Test Acc: 0.6244\n",
            "Epoch: 039, Loss: 0.2454, Train Acc: 0.8226 Test Acc: 0.6425\n",
            "Epoch: 040, Loss: 0.2582, Train Acc: 0.8387 Test Acc: 0.6606\n",
            "Epoch: 041, Loss: 0.2327, Train Acc: 0.8226 Test Acc: 0.6742\n",
            "Epoch: 042, Loss: 0.2244, Train Acc: 0.8387 Test Acc: 0.7059\n",
            "Epoch: 043, Loss: 0.2176, Train Acc: 0.8710 Test Acc: 0.6652\n",
            "Epoch: 044, Loss: 0.2580, Train Acc: 0.9194 Test Acc: 0.6833\n",
            "Epoch: 045, Loss: 0.3371, Train Acc: 0.8226 Test Acc: 0.6380\n",
            "Epoch: 046, Loss: 0.4044, Train Acc: 0.8548 Test Acc: 0.6968\n",
            "Epoch: 047, Loss: 0.2010, Train Acc: 0.7742 Test Acc: 0.6742\n",
            "Epoch: 048, Loss: 0.3025, Train Acc: 0.6935 Test Acc: 0.6199\n",
            "Epoch: 049, Loss: 0.2477, Train Acc: 0.6452 Test Acc: 0.6063\n",
            "Epoch: 050, Loss: 0.2366, Train Acc: 0.6290 Test Acc: 0.6063\n",
            "Epoch: 051, Loss: 0.1983, Train Acc: 0.6129 Test Acc: 0.6109\n",
            "Epoch: 052, Loss: 0.2188, Train Acc: 0.6290 Test Acc: 0.6154\n",
            "Epoch: 053, Loss: 0.1978, Train Acc: 0.6452 Test Acc: 0.6425\n",
            "Epoch: 054, Loss: 0.1843, Train Acc: 0.6935 Test Acc: 0.6923\n",
            "Epoch: 055, Loss: 0.1656, Train Acc: 0.7419 Test Acc: 0.7104\n",
            "Epoch: 056, Loss: 0.1452, Train Acc: 0.7581 Test Acc: 0.7466\n",
            "Epoch: 057, Loss: 0.1310, Train Acc: 0.8548 Test Acc: 0.7692\n",
            "Epoch: 058, Loss: 0.1457, Train Acc: 0.8871 Test Acc: 0.7647\n",
            "Epoch: 059, Loss: 0.1199, Train Acc: 0.8871 Test Acc: 0.8054\n",
            "Epoch: 060, Loss: 0.1069, Train Acc: 0.9355 Test Acc: 0.7511\n",
            "Epoch: 061, Loss: 0.1084, Train Acc: 0.9355 Test Acc: 0.7511\n",
            "Epoch: 062, Loss: 0.0912, Train Acc: 0.9516 Test Acc: 0.7376\n",
            "Epoch: 063, Loss: 0.0812, Train Acc: 0.9355 Test Acc: 0.7511\n",
            "Epoch: 064, Loss: 0.0751, Train Acc: 0.9677 Test Acc: 0.7557\n",
            "Epoch: 065, Loss: 0.0754, Train Acc: 0.9194 Test Acc: 0.7557\n",
            "Epoch: 066, Loss: 0.0540, Train Acc: 0.9516 Test Acc: 0.7466\n",
            "Epoch: 067, Loss: 0.0617, Train Acc: 0.9516 Test Acc: 0.7602\n",
            "Epoch: 068, Loss: 0.0935, Train Acc: 0.9677 Test Acc: 0.7511\n",
            "Epoch: 069, Loss: 0.0510, Train Acc: 0.9677 Test Acc: 0.7149\n",
            "Epoch: 070, Loss: 0.0517, Train Acc: 0.9839 Test Acc: 0.7285\n",
            "Epoch: 071, Loss: 0.0670, Train Acc: 0.9355 Test Acc: 0.7330\n",
            "Epoch: 072, Loss: 0.0634, Train Acc: 1.0000 Test Acc: 0.7557\n",
            "Epoch: 073, Loss: 0.3060, Train Acc: 0.9677 Test Acc: 0.7647\n",
            "Epoch: 074, Loss: 0.1247, Train Acc: 0.9677 Test Acc: 0.7330\n",
            "Epoch: 075, Loss: 0.4142, Train Acc: 0.9516 Test Acc: 0.7557\n",
            "Epoch: 076, Loss: 0.0967, Train Acc: 0.9516 Test Acc: 0.7647\n",
            "Epoch: 077, Loss: 0.1389, Train Acc: 0.9516 Test Acc: 0.7557\n",
            "Epoch: 078, Loss: 0.1911, Train Acc: 0.9516 Test Acc: 0.7738\n",
            "Epoch: 079, Loss: 0.2846, Train Acc: 0.9516 Test Acc: 0.7738\n",
            "Epoch: 080, Loss: 0.2285, Train Acc: 0.9516 Test Acc: 0.7647\n",
            "Epoch: 081, Loss: 0.2676, Train Acc: 0.9355 Test Acc: 0.7692\n",
            "Epoch: 082, Loss: 0.2462, Train Acc: 0.9032 Test Acc: 0.7692\n",
            "Epoch: 083, Loss: 0.2114, Train Acc: 0.9516 Test Acc: 0.7376\n",
            "Epoch: 084, Loss: 0.1667, Train Acc: 0.9677 Test Acc: 0.7466\n",
            "Epoch: 085, Loss: 0.2169, Train Acc: 0.9516 Test Acc: 0.7466\n",
            "Epoch: 086, Loss: 0.2250, Train Acc: 0.9516 Test Acc: 0.7240\n",
            "Epoch: 087, Loss: 0.1293, Train Acc: 0.9516 Test Acc: 0.7330\n",
            "Epoch: 088, Loss: 0.1939, Train Acc: 0.9677 Test Acc: 0.7376\n",
            "Epoch: 089, Loss: 0.1736, Train Acc: 0.9516 Test Acc: 0.7330\n",
            "Epoch: 090, Loss: 0.1536, Train Acc: 0.9355 Test Acc: 0.7285\n",
            "Epoch: 091, Loss: 0.1491, Train Acc: 0.9194 Test Acc: 0.7330\n",
            "Epoch: 092, Loss: 0.1151, Train Acc: 0.9516 Test Acc: 0.7330\n",
            "Epoch: 093, Loss: 0.1086, Train Acc: 0.9516 Test Acc: 0.7466\n",
            "Epoch: 094, Loss: 0.0871, Train Acc: 1.0000 Test Acc: 0.7195\n",
            "Epoch: 095, Loss: 0.0747, Train Acc: 1.0000 Test Acc: 0.7240\n",
            "Epoch: 096, Loss: 0.0864, Train Acc: 0.9839 Test Acc: 0.7240\n",
            "Epoch: 097, Loss: 0.0712, Train Acc: 0.9839 Test Acc: 0.7240\n",
            "Epoch: 098, Loss: 0.0666, Train Acc: 1.0000 Test Acc: 0.7376\n",
            "Epoch: 099, Loss: 0.0469, Train Acc: 1.0000 Test Acc: 0.7330\n",
            "Epoch: 100, Loss: 0.0565, Train Acc: 1.0000 Test Acc: 0.7149\n"
          ],
          "name": "stdout"
        }
      ]
    },
    {
      "cell_type": "code",
      "metadata": {
        "id": "4ExCpa7c28Dg"
      },
      "source": [
        ""
      ],
      "execution_count": null,
      "outputs": []
    }
  ]
}