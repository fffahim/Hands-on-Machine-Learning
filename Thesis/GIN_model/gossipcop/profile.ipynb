{
  "nbformat": 4,
  "nbformat_minor": 0,
  "metadata": {
    "colab": {
      "name": "GIN.ipynb",
      "provenance": [],
      "collapsed_sections": []
    },
    "kernelspec": {
      "name": "python3",
      "display_name": "Python 3"
    },
    "language_info": {
      "name": "python"
    }
  },
  "cells": [
    {
      "cell_type": "code",
      "metadata": {
        "id": "XSfj-b6MmZYD"
      },
      "source": [
        "!pip3 install torch==1.8.1+cpu torchvision==0.9.1+cpu torchaudio===0.8.1 -f https://download.pytorch.org/whl/lts/1.8/torch_lts.html"
      ],
      "execution_count": null,
      "outputs": []
    },
    {
      "cell_type": "code",
      "metadata": {
        "id": "zcjBWRVdlXcZ"
      },
      "source": [
        "!pip install torch-scatter -f https://pytorch-geometric.com/whl/torch-1.8.0+cu111.html\n",
        "!pip install torch-sparse -f https://pytorch-geometric.com/whl/torch-1.8.0+cu111.html\n",
        "!pip install torch-cluster -f https://pytorch-geometric.com/whl/torch-1.8.0+cu111.html\n",
        "!pip install torch-spline-conv -f https://pytorch-geometric.com/whl/torch-1.8.0+cu111.html\n",
        "!pip install torch-geometric\n",
        "!pip install --upgrade git+https://github.com/rusty1s/pytorch_geometric.git"
      ],
      "execution_count": null,
      "outputs": []
    },
    {
      "cell_type": "code",
      "metadata": {
        "id": "x5CEpUUIooAm"
      },
      "source": [
        "import argparse\n",
        "import os.path as osp\n",
        "\n",
        "import torch\n",
        "from torch.nn import Linear\n",
        "import torch.nn.functional as F\n",
        "from torch_geometric.datasets import UPFD\n",
        "from torch_geometric.data import DataLoader\n",
        "from torch_geometric.transforms import ToUndirected\n",
        "from torch_geometric.nn import GCNConv, SAGEConv, GATConv, global_max_pool, global_mean_pool\n",
        "from torch_geometric.nn import GINConv, global_add_pool,GINEConv\n",
        "from torch.nn import Sequential, Linear, BatchNorm1d, ReLU"
      ],
      "execution_count": null,
      "outputs": []
    },
    {
      "cell_type": "code",
      "metadata": {
        "id": "SHJb5ETtowVg"
      },
      "source": [
        "path = osp.join(osp.dirname(osp.realpath(\"/content/tutorial1\")), '..', 'data', 'UPFD')\n",
        "train_dataset = UPFD(path, 'gossipcop', 'profile', 'train', ToUndirected())\n",
        "val_dataset = UPFD(path, 'gossipcop', 'profile', 'val', ToUndirected())\n",
        "test_dataset = UPFD(path, 'gossipcop', 'profile', 'test', ToUndirected())\n",
        "\n",
        "train_loader = DataLoader(train_dataset, batch_size=128, shuffle=True)\n",
        "val_loader = DataLoader(val_dataset, batch_size=128, shuffle=False)\n",
        "test_loader = DataLoader(test_dataset, batch_size=128, shuffle=False)"
      ],
      "execution_count": 39,
      "outputs": []
    },
    {
      "cell_type": "markdown",
      "metadata": {
        "id": "eRIyYqHl5Nzl"
      },
      "source": [
        "feature: profile --------ACC=77\n",
        "\n",
        "feature: spacy----------ACC=77\n",
        "\n",
        "feature: bert----------ACC=80"
      ]
    },
    {
      "cell_type": "code",
      "metadata": {
        "colab": {
          "base_uri": "https://localhost:8080/"
        },
        "id": "-E5vCWrgLbow",
        "outputId": "aa8bb633-9596-409d-921f-5f5ce0619863"
      },
      "source": [
        "print(val_dataset)"
      ],
      "execution_count": 40,
      "outputs": [
        {
          "output_type": "stream",
          "text": [
            "UPFD(546, name=gossipcop, feature=profile)\n"
          ],
          "name": "stdout"
        }
      ]
    },
    {
      "cell_type": "code",
      "metadata": {
        "id": "ZkHBP398rlr9"
      },
      "source": [
        "class Net(torch.nn.Module):\n",
        "    def __init__(self, in_channels, dim, out_channels):\n",
        "        super(Net, self).__init__()\n",
        "\n",
        "        self.conv1 = GINConv(\n",
        "            Sequential(Linear(in_channels, dim), BatchNorm1d(dim), ReLU(),\n",
        "                       Linear(dim, dim), ReLU()))\n",
        "\n",
        "        self.conv2 = GINConv(\n",
        "            Sequential(Linear(dim, dim), BatchNorm1d(dim), ReLU(),\n",
        "                       Linear(dim, dim), ReLU()))\n",
        "\n",
        "        self.conv3 = GINConv(\n",
        "            Sequential(Linear(dim, dim), BatchNorm1d(dim), ReLU(),\n",
        "                       Linear(dim, dim), ReLU()))\n",
        "\n",
        "        self.conv4 = GINConv(\n",
        "            Sequential(Linear(dim, dim), BatchNorm1d(dim), ReLU(),\n",
        "                       Linear(dim, dim), ReLU()))\n",
        "\n",
        "        self.conv5 = GINConv(\n",
        "            Sequential(Linear(dim, dim), BatchNorm1d(dim), ReLU(),\n",
        "                       Linear(dim, dim), ReLU()))\n",
        "\n",
        "        self.lin1 = Linear(dim, dim)\n",
        "        self.lin2 = Linear(dim, out_channels)\n",
        "\n",
        "    def forward(self, x, edge_index, batch):\n",
        "        x = self.conv1(x, edge_index)\n",
        "        x = self.conv2(x, edge_index)\n",
        "        x = self.conv3(x, edge_index)\n",
        "        x = self.conv4(x, edge_index)\n",
        "        x = self.conv5(x, edge_index)\n",
        "        x = global_add_pool(x, batch)\n",
        "        x = self.lin1(x).relu()\n",
        "        x = F.dropout(x, p=0.5, training=self.training)\n",
        "        x = self.lin2(x)\n",
        "        return F.log_softmax(x, dim=-1)\n",
        "\n",
        "\n",
        "device = torch.device('cuda' if torch.cuda.is_available() else 'cpu')\n",
        "model = Net(train_dataset.num_features, 180, train_dataset.num_classes).to(device)\n",
        "optimizer = torch.optim.Adam(model.parameters(), lr=0.001)\n",
        "\n",
        "\n",
        "def train():\n",
        "    model.train()\n",
        "\n",
        "    total_loss = 0\n",
        "    for data in train_loader:\n",
        "        data = data.to(device)\n",
        "        optimizer.zero_grad()\n",
        "        output = model(data.x, data.edge_index, data.batch)\n",
        "        loss = F.nll_loss(output, data.y)\n",
        "        loss.backward()\n",
        "        optimizer.step()\n",
        "        total_loss += float(loss) * data.num_graphs\n",
        "    return total_loss / len(train_loader.dataset)\n",
        "\n",
        "\n",
        "@torch.no_grad()\n",
        "def test(loader):\n",
        "    model.eval()\n",
        "\n",
        "    total_correct = 0\n",
        "    for data in loader:\n",
        "        data = data.to(device)\n",
        "        out = model(data.x, data.edge_index, data.batch)\n",
        "        total_correct += int((out.argmax(-1) == data.y).sum())\n",
        "    return total_correct / len(loader.dataset)\n",
        "\n",
        "\n",
        "for epoch in range(1, 101):\n",
        "    loss = train()\n",
        "    train_acc = test(train_loader)\n",
        "    test_acc = test(test_loader)\n",
        "    print(f'Epoch: {epoch:03d}, Loss: {loss:.4f}, Train Acc: {train_acc:.4f} '\n",
        "          f'Test Acc: {test_acc:.4f}')"
      ],
      "execution_count": null,
      "outputs": []
    },
    {
      "cell_type": "code",
      "metadata": {
        "id": "4ExCpa7c28Dg"
      },
      "source": [
        ""
      ],
      "execution_count": null,
      "outputs": []
    }
  ]
}